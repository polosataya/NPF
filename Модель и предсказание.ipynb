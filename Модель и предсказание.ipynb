{
 "cells": [
  {
   "cell_type": "code",
   "execution_count": 3,
   "id": "a78be9a7",
   "metadata": {},
   "outputs": [],
   "source": [
    "import pandas as pd\n",
    "import numpy as np\n",
    "\n",
    "from sklearn.model_selection import train_test_split\n",
    "from sklearn.metrics import f1_score, accuracy_score\n",
    "from sklearn.metrics import classification_report, confusion_matrix, ConfusionMatrixDisplay\n",
    "\n",
    "from catboost import CatBoostClassifier, Pool\n",
    "\n",
    "from sklearn.ensemble import IsolationForest\n",
    "from sklearn.linear_model import LogisticRegression\n",
    "\n",
    "from sklearn.model_selection import StratifiedKFold, KFold\n",
    "\n",
    "import seaborn as sns\n",
    "%matplotlib inline\n",
    "import matplotlib.pyplot as plt"
   ]
  },
  {
   "cell_type": "code",
   "execution_count": 26,
   "id": "42ca722c",
   "metadata": {},
   "outputs": [],
   "source": [
    "from collections import Counter\n",
    "\n",
    "def get_mode(row): # Кастомная функция вычисления модального значения категориального признака\n",
    "    counter = Counter(row)\n",
    "    (most_common, _) = counter.most_common(1)[0]\n",
    "\n",
    "    return most_common"
   ]
  },
  {
   "cell_type": "code",
   "execution_count": 7,
   "id": "0cf6f918",
   "metadata": {},
   "outputs": [],
   "source": [
    "def validation(model, X_valid, y_valid):\n",
    "    if model == catc:\n",
    "        model_valid = model.predict(X_valid)\n",
    "        model_valid_ = model.predict_proba(X_valid)[:, 1]\n",
    "    #расчет метрики\n",
    "    print(\"f1_weight: \", f1_score(y_valid, model_valid, average='weighted'))\n",
    "    print(\"accuracy: \", accuracy_score(y_valid, model_valid))\n",
    "    print(\"Отчет о классификации: \")\n",
    "    print(classification_report(y_valid, model_valid))\n",
    "    #матрица ошибок\n",
    "    print(\"Матрица ошибок: \")\n",
    "    cm = confusion_matrix(y_valid, model_valid)#, normalize='true'\n",
    "    cm_display = ConfusionMatrixDisplay(cm).plot(colorbar=False, cmap=\"GnBu\")\n",
    "\n",
    "    fig, ax = plt.subplots(figsize=(8, 6))\n",
    "    if model == catc:\n",
    "        #влияющие факторы\n",
    "        fea_imp = pd.DataFrame({'imp': model.feature_importances_, 'col': X_valid.columns})\n",
    "        fea_imp = fea_imp.sort_values(['imp', 'col'], ascending=[True, False]).iloc[-20:]\n",
    "        ax.barh(fea_imp['col'], fea_imp['imp'], align='center')\n",
    "\n",
    "    plt.title('Важность признаков для модели')\n",
    "    plt.ylabel('Признаки')\n",
    "    plt.xlabel('Важность')"
   ]
  },
  {
   "cell_type": "markdown",
   "id": "56c380cd",
   "metadata": {},
   "source": [
    "## Загрузка тренировочных данных"
   ]
  },
  {
   "cell_type": "code",
   "execution_count": 198,
   "id": "c5c0d762",
   "metadata": {},
   "outputs": [
    {
     "data": {
      "text/html": [
       "<div>\n",
       "<style scoped>\n",
       "    .dataframe tbody tr th:only-of-type {\n",
       "        vertical-align: middle;\n",
       "    }\n",
       "\n",
       "    .dataframe tbody tr th {\n",
       "        vertical-align: top;\n",
       "    }\n",
       "\n",
       "    .dataframe thead th {\n",
       "        text-align: right;\n",
       "    }\n",
       "</style>\n",
       "<table border=\"1\" class=\"dataframe\">\n",
       "  <thead>\n",
       "    <tr style=\"text-align: right;\">\n",
       "      <th></th>\n",
       "      <th>slctn_nmbr</th>\n",
       "      <th>clnt_id</th>\n",
       "      <th>accnt_id</th>\n",
       "      <th>gndr</th>\n",
       "      <th>brth_yr</th>\n",
       "      <th>prsnt_age</th>\n",
       "      <th>accnt_bgn_date</th>\n",
       "      <th>cprtn_prd_d</th>\n",
       "      <th>erly_pnsn_flg</th>\n",
       "      <th>accnt_status</th>\n",
       "      <th>...</th>\n",
       "      <th>dstrct</th>\n",
       "      <th>city</th>\n",
       "      <th>sttlmnt</th>\n",
       "      <th>pstl_code</th>\n",
       "      <th>okato</th>\n",
       "      <th>phn</th>\n",
       "      <th>email</th>\n",
       "      <th>lk</th>\n",
       "      <th>assgn_npo</th>\n",
       "      <th>assgn_ops</th>\n",
       "    </tr>\n",
       "  </thead>\n",
       "  <tbody>\n",
       "    <tr>\n",
       "      <th>0</th>\n",
       "      <td>0</td>\n",
       "      <td>0x03ED62E56DAEA24B96D6F1252D713286</td>\n",
       "      <td>0xFFB14DE2D28AAD45B08AC54ADDFE6AD2</td>\n",
       "      <td>ж</td>\n",
       "      <td>1960</td>\n",
       "      <td>64</td>\n",
       "      <td>2005-12-21</td>\n",
       "      <td>96</td>\n",
       "      <td>0</td>\n",
       "      <td>Накопительный период</td>\n",
       "      <td>...</td>\n",
       "      <td>NaN</td>\n",
       "      <td>ОМСК Г</td>\n",
       "      <td>NaN</td>\n",
       "      <td>644001</td>\n",
       "      <td>5.200000e+10</td>\n",
       "      <td>нет</td>\n",
       "      <td>нет</td>\n",
       "      <td>нет</td>\n",
       "      <td>нет</td>\n",
       "      <td>нет</td>\n",
       "    </tr>\n",
       "    <tr>\n",
       "      <th>1</th>\n",
       "      <td>0</td>\n",
       "      <td>0x15138C4A822F1C45A819FCBE6657B810</td>\n",
       "      <td>0x222F5E5BA3715F418662A3C65B0B051F</td>\n",
       "      <td>м</td>\n",
       "      <td>1954</td>\n",
       "      <td>70</td>\n",
       "      <td>2009-06-29</td>\n",
       "      <td>283</td>\n",
       "      <td>0</td>\n",
       "      <td>Накопительный период</td>\n",
       "      <td>...</td>\n",
       "      <td>NaN</td>\n",
       "      <td>БЕЛОГОРСК Г</td>\n",
       "      <td>NaN</td>\n",
       "      <td>676852</td>\n",
       "      <td>1.000000e+10</td>\n",
       "      <td>нет</td>\n",
       "      <td>нет</td>\n",
       "      <td>нет</td>\n",
       "      <td>нет</td>\n",
       "      <td>нет</td>\n",
       "    </tr>\n",
       "  </tbody>\n",
       "</table>\n",
       "<p>2 rows × 25 columns</p>\n",
       "</div>"
      ],
      "text/plain": [
       "   slctn_nmbr                             clnt_id  \\\n",
       "0           0  0x03ED62E56DAEA24B96D6F1252D713286   \n",
       "1           0  0x15138C4A822F1C45A819FCBE6657B810   \n",
       "\n",
       "                             accnt_id gndr  brth_yr  prsnt_age accnt_bgn_date  \\\n",
       "0  0xFFB14DE2D28AAD45B08AC54ADDFE6AD2    ж     1960         64     2005-12-21   \n",
       "1  0x222F5E5BA3715F418662A3C65B0B051F    м     1954         70     2009-06-29   \n",
       "\n",
       "   cprtn_prd_d  erly_pnsn_flg          accnt_status  ...  dstrct         city  \\\n",
       "0           96              0  Накопительный период  ...     NaN       ОМСК Г   \n",
       "1          283              0  Накопительный период  ...     NaN  БЕЛОГОРСК Г   \n",
       "\n",
       "  sttlmnt pstl_code         okato  phn email   lk assgn_npo  assgn_ops  \n",
       "0     NaN    644001  5.200000e+10  нет   нет  нет       нет        нет  \n",
       "1     NaN    676852  1.000000e+10  нет   нет  нет       нет        нет  \n",
       "\n",
       "[2 rows x 25 columns]"
      ]
     },
     "execution_count": 198,
     "metadata": {},
     "output_type": "execute_result"
    }
   ],
   "source": [
    "df_train = pd.read_csv('train_data/cntrbtrs_clnts_ops_trn.csv', encoding='cp1251', sep=\";\", low_memory=False)\n",
    "df_train.head(2)"
   ]
  },
  {
   "cell_type": "markdown",
   "id": "4a5f3634",
   "metadata": {},
   "source": [
    "Анализ целевой переменной"
   ]
  },
  {
   "cell_type": "code",
   "execution_count": 21,
   "id": "bfff6794",
   "metadata": {},
   "outputs": [
    {
     "data": {
      "text/plain": [
       "<Axes: xlabel='prsnt_age', ylabel='count'>"
      ]
     },
     "execution_count": 21,
     "metadata": {},
     "output_type": "execute_result"
    },
    {
     "data": {
      "image/png": "[encoded data removed]",
      "text/plain": [
       "<Figure size 1080x576 with 1 Axes>"
      ]
     },
     "metadata": {
      "needs_background": "light"
     },
     "output_type": "display_data"
    }
   ],
   "source": [
    "plt.figure(figsize=(15,8))\n",
    "sns.countplot(x=\"prsnt_age\", hue=\"erly_pnsn_flg\", data = df_train)"
   ]
  },
  {
   "cell_type": "code",
   "execution_count": 199,
   "id": "2258e1ab",
   "metadata": {},
   "outputs": [
    {
     "data": {
      "text/html": [
       "<div>\n",
       "<style scoped>\n",
       "    .dataframe tbody tr th:only-of-type {\n",
       "        vertical-align: middle;\n",
       "    }\n",
       "\n",
       "    .dataframe tbody tr th {\n",
       "        vertical-align: top;\n",
       "    }\n",
       "\n",
       "    .dataframe thead th {\n",
       "        text-align: right;\n",
       "    }\n",
       "</style>\n",
       "<table border=\"1\" class=\"dataframe\">\n",
       "  <thead>\n",
       "    <tr style=\"text-align: right;\">\n",
       "      <th></th>\n",
       "      <th>accnt_id</th>\n",
       "      <th>mvmnt_type</th>\n",
       "      <th>sum_type</th>\n",
       "      <th>cmmnt</th>\n",
       "      <th>sum</th>\n",
       "      <th>oprtn_date</th>\n",
       "    </tr>\n",
       "  </thead>\n",
       "  <tbody>\n",
       "    <tr>\n",
       "      <th>0</th>\n",
       "      <td>0x00003A37F46E104EB1AB513510DC1C79</td>\n",
       "      <td>0.0</td>\n",
       "      <td>Страховые взносы на НЧ</td>\n",
       "      <td>Поступление взносов ОПС</td>\n",
       "      <td>2096.31</td>\n",
       "      <td>2012-02-12</td>\n",
       "    </tr>\n",
       "    <tr>\n",
       "      <th>1</th>\n",
       "      <td>0x00003A37F46E104EB1AB513510DC1C79</td>\n",
       "      <td>0.0</td>\n",
       "      <td>Страховые взносы на НЧ</td>\n",
       "      <td>Поступление взносов ОПС</td>\n",
       "      <td>0.00</td>\n",
       "      <td>2012-02-13</td>\n",
       "    </tr>\n",
       "    <tr>\n",
       "      <th>2</th>\n",
       "      <td>0x00003A37F46E104EB1AB513510DC1C79</td>\n",
       "      <td>0.0</td>\n",
       "      <td>Страховые взносы на НЧ</td>\n",
       "      <td>Поступление взносов ОПС</td>\n",
       "      <td>0.00</td>\n",
       "      <td>2012-05-15</td>\n",
       "    </tr>\n",
       "    <tr>\n",
       "      <th>3</th>\n",
       "      <td>0x00003A37F46E104EB1AB513510DC1C79</td>\n",
       "      <td>0.0</td>\n",
       "      <td>Страховые взносы на НЧ</td>\n",
       "      <td>Поступление взносов ОПС</td>\n",
       "      <td>0.00</td>\n",
       "      <td>2012-08-14</td>\n",
       "    </tr>\n",
       "    <tr>\n",
       "      <th>4</th>\n",
       "      <td>0x00003A37F46E104EB1AB513510DC1C79</td>\n",
       "      <td>0.0</td>\n",
       "      <td>Страховые взносы на НЧ</td>\n",
       "      <td>Поступление взносов ОПС</td>\n",
       "      <td>0.00</td>\n",
       "      <td>2012-11-13</td>\n",
       "    </tr>\n",
       "  </tbody>\n",
       "</table>\n",
       "</div>"
      ],
      "text/plain": [
       "                             accnt_id  mvmnt_type                sum_type  \\\n",
       "0  0x00003A37F46E104EB1AB513510DC1C79         0.0  Страховые взносы на НЧ   \n",
       "1  0x00003A37F46E104EB1AB513510DC1C79         0.0  Страховые взносы на НЧ   \n",
       "2  0x00003A37F46E104EB1AB513510DC1C79         0.0  Страховые взносы на НЧ   \n",
       "3  0x00003A37F46E104EB1AB513510DC1C79         0.0  Страховые взносы на НЧ   \n",
       "4  0x00003A37F46E104EB1AB513510DC1C79         0.0  Страховые взносы на НЧ   \n",
       "\n",
       "                     cmmnt      sum  oprtn_date  \n",
       "0  Поступление взносов ОПС  2096.31  2012-02-12  \n",
       "1  Поступление взносов ОПС     0.00  2012-02-13  \n",
       "2  Поступление взносов ОПС     0.00  2012-05-15  \n",
       "3  Поступление взносов ОПС     0.00  2012-08-14  \n",
       "4  Поступление взносов ОПС     0.00  2012-11-13  "
      ]
     },
     "execution_count": 199,
     "metadata": {},
     "output_type": "execute_result"
    }
   ],
   "source": [
    "# данные о транзакциях\n",
    "df_train_ = pd.read_csv('train_data/trnsctns_ops_trn.csv', encoding='cp1251', sep=\";\")\n",
    "df_train_.head()"
   ]
  },
  {
   "cell_type": "code",
   "execution_count": 200,
   "id": "2a95eaac",
   "metadata": {},
   "outputs": [
    {
     "data": {
      "text/html": [
       "<div>\n",
       "<style scoped>\n",
       "    .dataframe tbody tr th:only-of-type {\n",
       "        vertical-align: middle;\n",
       "    }\n",
       "\n",
       "    .dataframe tbody tr th {\n",
       "        vertical-align: top;\n",
       "    }\n",
       "\n",
       "    .dataframe thead th {\n",
       "        text-align: right;\n",
       "    }\n",
       "</style>\n",
       "<table border=\"1\" class=\"dataframe\">\n",
       "  <thead>\n",
       "    <tr style=\"text-align: right;\">\n",
       "      <th></th>\n",
       "      <th>accnt_id</th>\n",
       "      <th>counting</th>\n",
       "      <th>mvmnt_type</th>\n",
       "      <th>sum_type</th>\n",
       "      <th>cmmnt</th>\n",
       "      <th>sums</th>\n",
       "      <th>cmmnt_unique</th>\n",
       "    </tr>\n",
       "  </thead>\n",
       "  <tbody>\n",
       "    <tr>\n",
       "      <th>0</th>\n",
       "      <td>0x00003A37F46E104EB1AB513510DC1C79</td>\n",
       "      <td>28</td>\n",
       "      <td>0.000000</td>\n",
       "      <td>ИД на страховые взносы на НЧ</td>\n",
       "      <td>Распределение ИД ОПС</td>\n",
       "      <td>3352.96</td>\n",
       "      <td>2</td>\n",
       "    </tr>\n",
       "    <tr>\n",
       "      <th>1</th>\n",
       "      <td>0x00005C5B81A6B34C93DD254536771BB6</td>\n",
       "      <td>48</td>\n",
       "      <td>0.083333</td>\n",
       "      <td>Страховые взносы на НЧ</td>\n",
       "      <td>Поступление взносов ОПС</td>\n",
       "      <td>36472.74</td>\n",
       "      <td>5</td>\n",
       "    </tr>\n",
       "  </tbody>\n",
       "</table>\n",
       "</div>"
      ],
      "text/plain": [
       "                             accnt_id  counting  mvmnt_type  \\\n",
       "0  0x00003A37F46E104EB1AB513510DC1C79        28    0.000000   \n",
       "1  0x00005C5B81A6B34C93DD254536771BB6        48    0.083333   \n",
       "\n",
       "                       sum_type                    cmmnt      sums  \\\n",
       "0  ИД на страховые взносы на НЧ     Распределение ИД ОПС   3352.96   \n",
       "1        Страховые взносы на НЧ  Поступление взносов ОПС  36472.74   \n",
       "\n",
       "   cmmnt_unique  \n",
       "0             2  \n",
       "1             5  "
      ]
     },
     "execution_count": 200,
     "metadata": {},
     "output_type": "execute_result"
    }
   ],
   "source": [
    "trnsctns = df_train_.groupby('accnt_id', as_index=False).agg(\n",
    "    counting=('mvmnt_type', 'count'),   #записей на человека\n",
    "    mvmnt_type=('mvmnt_type', 'mean'),        #каких больше\n",
    "    sum_type =('sum_type', get_mode),   #популярный тип\n",
    "    cmmnt=('cmmnt', get_mode), #популярный тип\n",
    "    sums=('sum', 'sum'), #обзщая сумма\n",
    "    cmmnt_unique=('cmmnt', 'nunique'), #Вычисляем браузер/приложение пользователя\n",
    ")\n",
    "trnsctns.head(2)"
   ]
  },
  {
   "cell_type": "code",
   "execution_count": 202,
   "id": "9b29fd0a",
   "metadata": {},
   "outputs": [],
   "source": [
    "#заполняем пропуски\n",
    "df_train['rgn']=df_train['rgn'].fillna(df_train['rgn'].mode()[0])\n",
    "df_train['okato']=df_train['okato'].fillna(df_train['okato'].mode()[0]).astype(int)"
   ]
  },
  {
   "cell_type": "code",
   "execution_count": 203,
   "id": "fc2c53a1",
   "metadata": {},
   "outputs": [],
   "source": [
    "# полный датасет\n",
    "cols = ['accnt_id', 'gndr', 'brth_yr', 'prsnt_age', 'cprtn_prd_d', 'erly_pnsn_flg', 'accnt_status',\n",
    "       'pnsn_age', 'prvs_npf', 'rgn', 'phn', 'email', 'lk',\n",
    "       'assgn_npo', 'assgn_ops']\n",
    "merged_df = pd.merge(df_train[cols], trnsctns, on=['accnt_id'])"
   ]
  },
  {
   "cell_type": "code",
   "execution_count": 204,
   "id": "f711e714",
   "metadata": {},
   "outputs": [],
   "source": [
    "merged_df['gndr_age'] = merged_df['gndr'] + merged_df['prsnt_age'].astype(str)"
   ]
  },
  {
   "cell_type": "markdown",
   "id": "49107d01",
   "metadata": {},
   "source": [
    "Объединнеый датасет со всеми сгеренированными признаками"
   ]
  },
  {
   "cell_type": "code",
   "execution_count": 205,
   "id": "000be72b",
   "metadata": {},
   "outputs": [
    {
     "data": {
      "text/html": [
       "<div>\n",
       "<style scoped>\n",
       "    .dataframe tbody tr th:only-of-type {\n",
       "        vertical-align: middle;\n",
       "    }\n",
       "\n",
       "    .dataframe tbody tr th {\n",
       "        vertical-align: top;\n",
       "    }\n",
       "\n",
       "    .dataframe thead th {\n",
       "        text-align: right;\n",
       "    }\n",
       "</style>\n",
       "<table border=\"1\" class=\"dataframe\">\n",
       "  <thead>\n",
       "    <tr style=\"text-align: right;\">\n",
       "      <th></th>\n",
       "      <th>accnt_id</th>\n",
       "      <th>gndr</th>\n",
       "      <th>brth_yr</th>\n",
       "      <th>prsnt_age</th>\n",
       "      <th>cprtn_prd_d</th>\n",
       "      <th>erly_pnsn_flg</th>\n",
       "      <th>accnt_status</th>\n",
       "      <th>pnsn_age</th>\n",
       "      <th>prvs_npf</th>\n",
       "      <th>rgn</th>\n",
       "      <th>...</th>\n",
       "      <th>lk</th>\n",
       "      <th>assgn_npo</th>\n",
       "      <th>assgn_ops</th>\n",
       "      <th>counting</th>\n",
       "      <th>mvmnt_type</th>\n",
       "      <th>sum_type</th>\n",
       "      <th>cmmnt</th>\n",
       "      <th>sums</th>\n",
       "      <th>cmmnt_unique</th>\n",
       "      <th>gndr_age</th>\n",
       "    </tr>\n",
       "  </thead>\n",
       "  <tbody>\n",
       "    <tr>\n",
       "      <th>0</th>\n",
       "      <td>0xFFB14DE2D28AAD45B08AC54ADDFE6AD2</td>\n",
       "      <td>ж</td>\n",
       "      <td>1960</td>\n",
       "      <td>64</td>\n",
       "      <td>96</td>\n",
       "      <td>0</td>\n",
       "      <td>Накопительный период</td>\n",
       "      <td>55</td>\n",
       "      <td>СФР</td>\n",
       "      <td>ОМСКАЯ ОБЛ</td>\n",
       "      <td>...</td>\n",
       "      <td>нет</td>\n",
       "      <td>нет</td>\n",
       "      <td>нет</td>\n",
       "      <td>56</td>\n",
       "      <td>0.107143</td>\n",
       "      <td>ИД на страховые взносы на НЧ</td>\n",
       "      <td>Поступление взносов ОПС</td>\n",
       "      <td>25704.27</td>\n",
       "      <td>4</td>\n",
       "      <td>ж64</td>\n",
       "    </tr>\n",
       "    <tr>\n",
       "      <th>1</th>\n",
       "      <td>0x222F5E5BA3715F418662A3C65B0B051F</td>\n",
       "      <td>м</td>\n",
       "      <td>1954</td>\n",
       "      <td>70</td>\n",
       "      <td>283</td>\n",
       "      <td>0</td>\n",
       "      <td>Накопительный период</td>\n",
       "      <td>60</td>\n",
       "      <td>СФР</td>\n",
       "      <td>АМУРСКАЯ ОБЛ</td>\n",
       "      <td>...</td>\n",
       "      <td>нет</td>\n",
       "      <td>нет</td>\n",
       "      <td>нет</td>\n",
       "      <td>45</td>\n",
       "      <td>0.088889</td>\n",
       "      <td>Страховые взносы на НЧ</td>\n",
       "      <td>Поступление взносов ОПС</td>\n",
       "      <td>40708.20</td>\n",
       "      <td>5</td>\n",
       "      <td>м70</td>\n",
       "    </tr>\n",
       "  </tbody>\n",
       "</table>\n",
       "<p>2 rows × 22 columns</p>\n",
       "</div>"
      ],
      "text/plain": [
       "                             accnt_id gndr  brth_yr  prsnt_age  cprtn_prd_d  \\\n",
       "0  0xFFB14DE2D28AAD45B08AC54ADDFE6AD2    ж     1960         64           96   \n",
       "1  0x222F5E5BA3715F418662A3C65B0B051F    м     1954         70          283   \n",
       "\n",
       "   erly_pnsn_flg          accnt_status  pnsn_age prvs_npf           rgn  ...  \\\n",
       "0              0  Накопительный период        55      СФР    ОМСКАЯ ОБЛ  ...   \n",
       "1              0  Накопительный период        60      СФР  АМУРСКАЯ ОБЛ  ...   \n",
       "\n",
       "    lk assgn_npo assgn_ops counting mvmnt_type                      sum_type  \\\n",
       "0  нет       нет       нет       56   0.107143  ИД на страховые взносы на НЧ   \n",
       "1  нет       нет       нет       45   0.088889        Страховые взносы на НЧ   \n",
       "\n",
       "                     cmmnt      sums cmmnt_unique  gndr_age  \n",
       "0  Поступление взносов ОПС  25704.27            4       ж64  \n",
       "1  Поступление взносов ОПС  40708.20            5       м70  \n",
       "\n",
       "[2 rows x 22 columns]"
      ]
     },
     "execution_count": 205,
     "metadata": {},
     "output_type": "execute_result"
    }
   ],
   "source": [
    "merged_df.head(2)"
   ]
  },
  {
   "cell_type": "markdown",
   "id": "cbdbd5b5",
   "metadata": {},
   "source": [
    "Убираем из  обучения возраст, по которому таргет только один класс"
   ]
  },
  {
   "cell_type": "code",
   "execution_count": 206,
   "id": "47f31ccc",
   "metadata": {},
   "outputs": [],
   "source": [
    "#58-67 есть и досрочные и недосрочные\n",
    "temp = merged_df[(merged_df['prsnt_age']>=58)&(merged_df['prsnt_age']<=67)]"
   ]
  },
  {
   "cell_type": "code",
   "execution_count": 207,
   "id": "f89c8aff",
   "metadata": {},
   "outputs": [
    {
     "data": {
      "text/plain": [
       "Index(['accnt_id', 'gndr', 'brth_yr', 'prsnt_age', 'cprtn_prd_d',\n",
       "       'erly_pnsn_flg', 'accnt_status', 'pnsn_age', 'prvs_npf', 'rgn', 'phn',\n",
       "       'email', 'lk', 'assgn_npo', 'assgn_ops', 'counting', 'mvmnt_type',\n",
       "       'sum_type', 'cmmnt', 'sums', 'cmmnt_unique', 'gndr_age'],\n",
       "      dtype='object')"
      ]
     },
     "execution_count": 207,
     "metadata": {},
     "output_type": "execute_result"
    }
   ],
   "source": [
    "merged_df.columns"
   ]
  },
  {
   "cell_type": "markdown",
   "id": "b02de4f0",
   "metadata": {},
   "source": [
    "Бейзлайн"
   ]
  },
  {
   "cell_type": "code",
   "execution_count": 47,
   "id": "e10f1d87",
   "metadata": {},
   "outputs": [],
   "source": [
    "#предварительно обработать accnt_bgn_date prvs_npf brth_plc dstrct city  sttlmnt  pstl_code 'addrss_type','okato', \n",
    "# cprtn_prd_d Время между датой заключения договора и датой статуса договора\n",
    "#числовые колонки\n",
    "num_col = ['pnsn_age', 'cprtn_prd_d', 'prsnt_age', 'brth_yr', 'counting', 'mvmnt_type',\n",
    "          'sums', 'cmmnt_unique'] #'cprtn_prd_d', 'prsnt_age', 'brth_yr',\n",
    "#категориальные колонки\n",
    "cat_col = ['gndr',   'rgn', 'phn', 'email', 'lk', 'assgn_npo', 'assgn_ops', #'accnt_status',\n",
    "          'gndr_age', 'sum_type', 'cmmnt']\n",
    "#target-колонки\n",
    "targets_col = ['slctn_nmbr', 'clnt_id', 'accnt_id', 'erly_pnsn_flg'] #, 'accnt_status'\n",
    "\n",
    "#feat_col = ['prsnt_age', 'gndr', 'rgn']\n",
    "\n",
    "feat_col = num_col + cat_col# + 'gndr_age'"
   ]
  },
  {
   "cell_type": "code",
   "execution_count": 48,
   "id": "41fa78fd",
   "metadata": {},
   "outputs": [],
   "source": [
    "cat_col_= [col for col in cat_col if col in feat_col]"
   ]
  },
  {
   "cell_type": "code",
   "execution_count": 164,
   "id": "e9f593d8",
   "metadata": {},
   "outputs": [
    {
     "data": {
      "text/plain": [
       "erly_pnsn_flg\n",
       "0    429931\n",
       "1       491\n",
       "Name: count, dtype: int64"
      ]
     },
     "execution_count": 164,
     "metadata": {},
     "output_type": "execute_result"
    }
   ],
   "source": [
    "temp['erly_pnsn_flg'].value_counts()"
   ]
  },
  {
   "cell_type": "markdown",
   "id": "1697238b",
   "metadata": {},
   "source": [
    "Уменьшаем размер класса 0, чтобы устранить большой дисбаланс классов"
   ]
  },
  {
   "cell_type": "code",
   "execution_count": 173,
   "id": "8dbfbbb9",
   "metadata": {},
   "outputs": [],
   "source": [
    "# выборка для каждого класса 491 досрочно\n",
    "sample_train=pd.DataFrame()\n",
    "for j in [0, 1]:\n",
    "    try:\n",
    "        temp_ = temp[temp['erly_pnsn_flg']==j].sample(n=100000, random_state=42)\n",
    "    except:\n",
    "        temp_ = temp[temp['erly_pnsn_flg']==j]\n",
    "    sample_train = pd.concat([sample_train, temp_], ignore_index=True)"
   ]
  },
  {
   "cell_type": "code",
   "execution_count": 174,
   "id": "aba2a679",
   "metadata": {},
   "outputs": [
    {
     "data": {
      "text/plain": [
       "erly_pnsn_flg\n",
       "0    0.995114\n",
       "1    0.004886\n",
       "Name: proportion, dtype: float64"
      ]
     },
     "execution_count": 174,
     "metadata": {},
     "output_type": "execute_result"
    }
   ],
   "source": [
    "sample_train['erly_pnsn_flg'].value_counts(normalize=True)"
   ]
  },
  {
   "cell_type": "markdown",
   "id": "8c9740af",
   "metadata": {},
   "source": [
    "Разделение на тренировочную и валидационную выборки"
   ]
  },
  {
   "cell_type": "code",
   "execution_count": 175,
   "id": "2847939c",
   "metadata": {},
   "outputs": [],
   "source": [
    "ALL_IDS = sample_train['accnt_id'].unique()\n",
    "#Делим на обучающую и валидационную выборки\n",
    "TRAIN_IDS, VAL_IDS = train_test_split(ALL_IDS, train_size=0.8, shuffle=True, random_state=10)"
   ]
  },
  {
   "cell_type": "code",
   "execution_count": 176,
   "id": "b588f6bc",
   "metadata": {},
   "outputs": [],
   "source": [
    "HOLD_IDS = merged_df[(merged_df['prsnt_age']<58)|(merged_df['prsnt_age']>67)]['accnt_id'].unique()\n",
    "hold_events = merged_df[merged_df['accnt_id'].isin(HOLD_IDS)]"
   ]
  },
  {
   "cell_type": "code",
   "execution_count": 177,
   "id": "01735177",
   "metadata": {},
   "outputs": [],
   "source": [
    "train_events = merged_df[merged_df['accnt_id'].isin(TRAIN_IDS)] #группируем события для тех пользователей, которые есть в тренировочной выборке\n",
    "val_events = merged_df[merged_df['accnt_id'].isin(VAL_IDS)]     #группируем события для тех пользователей, которые есть в валидационной выборке"
   ]
  },
  {
   "cell_type": "code",
   "execution_count": 179,
   "id": "bb663eaa",
   "metadata": {},
   "outputs": [],
   "source": [
    "#feat_col = num_col + cat_col\n",
    "X_train_part = train_events[feat_col]\n",
    "X_valid = val_events[feat_col]"
   ]
  },
  {
   "cell_type": "code",
   "execution_count": 180,
   "id": "2ba84934",
   "metadata": {},
   "outputs": [],
   "source": [
    "#создаем датафреймы с целевым столбцом пола\n",
    "y_train_part = train_events['erly_pnsn_flg']\n",
    "y_valid = val_events['erly_pnsn_flg']"
   ]
  },
  {
   "cell_type": "code",
   "execution_count": 181,
   "id": "2008434f",
   "metadata": {},
   "outputs": [],
   "source": [
    "X_hold = hold_events[feat_col]\n",
    "y_hold = hold_events['erly_pnsn_flg']"
   ]
  },
  {
   "cell_type": "markdown",
   "id": "07b791d0",
   "metadata": {},
   "source": [
    "### Классификация CatBoost"
   ]
  },
  {
   "cell_type": "code",
   "execution_count": 182,
   "id": "8db737d5",
   "metadata": {},
   "outputs": [
    {
     "name": "stderr",
     "output_type": "stream",
     "text": [
      "Default metric period is 5 because AUC is/are not implemented for GPU\n"
     ]
    },
    {
     "name": "stdout",
     "output_type": "stream",
     "text": [
      "0:\ttest: 0.9981593\tbest: 0.9981593 (0)\ttotal: 20.8ms\tremaining: 20.8s\n",
      "bestTest = 0.9996494651\n",
      "bestIteration = 32\n",
      "Shrink model to first 33 iterations.\n"
     ]
    },
    {
     "data": {
      "text/plain": [
       "<catboost.core.CatBoostClassifier at 0x7f9a2e306970>"
      ]
     },
     "execution_count": 182,
     "metadata": {},
     "output_type": "execute_result"
    }
   ],
   "source": [
    "#создаем предсказательную модель и обучаем её\n",
    "catc = CatBoostClassifier(loss_function = \"Logloss\",\n",
    "                          #eval_metric=\"F1\",\n",
    "                          eval_metric=\"AUC\",\n",
    "                          learning_rate=0.01,\n",
    "                          max_depth = 16,\n",
    "                          #l2_leaf_reg = 3.5,\n",
    "                          n_estimators = 1000,\n",
    "                          auto_class_weights='Balanced',\n",
    "                          leaf_estimation_iterations=1, random_state=42, task_type='GPU')\n",
    "catc.fit(X_train_part, y_train_part, eval_set=(X_valid, y_valid), cat_features=cat_col_,\n",
    "         early_stopping_rounds = 50, use_best_model=True, verbose=500)"
   ]
  },
  {
   "cell_type": "code",
   "execution_count": 183,
   "id": "bd259a00",
   "metadata": {},
   "outputs": [
    {
     "name": "stdout",
     "output_type": "stream",
     "text": [
      "f1_weight:  0.9964968093722149\n",
      "accuracy:  0.9959201950345788\n",
      "Отчет о классификации: \n",
      "              precision    recall  f1-score   support\n",
      "\n",
      "           0       1.00      1.00      1.00     19996\n",
      "           1       0.56      1.00      0.72       103\n",
      "\n",
      "    accuracy                           1.00     20099\n",
      "   macro avg       0.78      1.00      0.86     20099\n",
      "weighted avg       1.00      1.00      1.00     20099\n",
      "\n",
      "Матрица ошибок: \n"
     ]
    },
    {
     "data": {
      "image/png": "[encoded data removed]",
      "text/plain": [
       "<Figure size 432x288 with 1 Axes>"
      ]
     },
     "metadata": {
      "needs_background": "light"
     },
     "output_type": "display_data"
    },
    {
     "data": {
      "image/png": "[encoded data removed]",
      "text/plain": [
       "<Figure size 576x432 with 1 Axes>"
      ]
     },
     "metadata": {
      "needs_background": "light"
     },
     "output_type": "display_data"
    }
   ],
   "source": [
    "#запуск модели для валидационных данных\n",
    "validation(catc, X_valid, y_valid)"
   ]
  },
  {
   "cell_type": "markdown",
   "id": "26d7594b",
   "metadata": {},
   "source": [
    "Валилдация на отложенной выборке"
   ]
  },
  {
   "cell_type": "code",
   "execution_count": 184,
   "id": "ea6f08b2",
   "metadata": {},
   "outputs": [
    {
     "name": "stdout",
     "output_type": "stream",
     "text": [
      "f1_weight:  0.9729654914149837\n",
      "accuracy:  0.9735456969034111\n",
      "Отчет о классификации: \n",
      "              precision    recall  f1-score   support\n",
      "\n",
      "           0       0.97      1.00      0.98     83517\n",
      "           1       0.98      0.88      0.92     18886\n",
      "\n",
      "    accuracy                           0.97    102403\n",
      "   macro avg       0.98      0.94      0.95    102403\n",
      "weighted avg       0.97      0.97      0.97    102403\n",
      "\n",
      "Матрица ошибок: \n"
     ]
    },
    {
     "data": {
      "image/png": "[encoded data removed]",
      "text/plain": [
       "<Figure size 432x288 with 1 Axes>"
      ]
     },
     "metadata": {
      "needs_background": "light"
     },
     "output_type": "display_data"
    },
    {
     "data": {
      "image/png": "[encoded data removed]",
      "text/plain": [
       "<Figure size 576x432 with 1 Axes>"
      ]
     },
     "metadata": {
      "needs_background": "light"
     },
     "output_type": "display_data"
    }
   ],
   "source": [
    "validation(catc, X_hold, y_hold)"
   ]
  },
  {
   "cell_type": "code",
   "execution_count": 185,
   "id": "25363214",
   "metadata": {},
   "outputs": [],
   "source": [
    "#для предскзания\n",
    "#model_pred = catc.predict(X_test[feat_col])"
   ]
  },
  {
   "cell_type": "code",
   "execution_count": null,
   "id": "3f02daa4",
   "metadata": {},
   "outputs": [],
   "source": []
  },
  {
   "cell_type": "markdown",
   "id": "d3689137",
   "metadata": {},
   "source": [
    "### Предсказание как выяаление аномалий"
   ]
  },
  {
   "cell_type": "code",
   "execution_count": 86,
   "id": "223d5dc2",
   "metadata": {},
   "outputs": [],
   "source": [
    "# fit the model\n",
    "clf = IsolationForest(max_samples=50000, random_state=42)\n",
    "clf.fit(X_train_part[num_col])\n",
    "y_pred_outliers = clf.predict(X_train_part[num_col])\n",
    "y_pred_outliers = np.where(y_pred_outliers == 1, 0, 1)"
   ]
  },
  {
   "cell_type": "code",
   "execution_count": 87,
   "id": "91ae8f95",
   "metadata": {},
   "outputs": [
    {
     "name": "stdout",
     "output_type": "stream",
     "text": [
      "f1_weight:  0.9761023859076617\n"
     ]
    }
   ],
   "source": [
    "print(\"f1_weight: \", f1_score(y_train_part, y_pred_outliers, average='weighted'))"
   ]
  },
  {
   "cell_type": "code",
   "execution_count": 88,
   "id": "76dbb6fb",
   "metadata": {},
   "outputs": [],
   "source": [
    "y_pred_outliers = clf.predict(X_valid[num_col])\n",
    "y_pred_outliers = np.where(y_pred_outliers == 1, 0, 1)"
   ]
  },
  {
   "cell_type": "code",
   "execution_count": 89,
   "id": "db96e143",
   "metadata": {},
   "outputs": [
    {
     "name": "stdout",
     "output_type": "stream",
     "text": [
      "f1_weight:  0.9744320429833244\n"
     ]
    }
   ],
   "source": [
    "print(\"f1_weight: \", f1_score(y_valid, y_pred_outliers, average='weighted'))"
   ]
  },
  {
   "cell_type": "code",
   "execution_count": 90,
   "id": "0a07d750",
   "metadata": {},
   "outputs": [
    {
     "name": "stdout",
     "output_type": "stream",
     "text": [
      "              precision    recall  f1-score   support\n",
      "\n",
      "           0       1.00      0.96      0.98     19996\n",
      "           1       0.11      1.00      0.20       103\n",
      "\n",
      "    accuracy                           0.96     20099\n",
      "   macro avg       0.55      0.98      0.59     20099\n",
      "weighted avg       1.00      0.96      0.97     20099\n",
      "\n"
     ]
    }
   ],
   "source": [
    "print(classification_report(y_valid, y_pred_outliers))"
   ]
  },
  {
   "cell_type": "markdown",
   "id": "5dd041c4",
   "metadata": {},
   "source": [
    "### Предсказание логистической регрессией"
   ]
  },
  {
   "cell_type": "code",
   "execution_count": 188,
   "id": "26a62d55",
   "metadata": {},
   "outputs": [],
   "source": [
    "logit = LogisticRegression(random_state=42, solver='lbfgs', C = 1.0, max_iter=100)"
   ]
  },
  {
   "cell_type": "code",
   "execution_count": 189,
   "id": "545cc160",
   "metadata": {},
   "outputs": [
    {
     "data": {
      "text/html": [
       "<style>#sk-container-id-3 {color: black;}#sk-container-id-3 pre{padding: 0;}#sk-container-id-3 div.sk-toggleable {background-color: white;}#sk-container-id-3 label.sk-toggleable__label {cursor: pointer;display: block;width: 100%;margin-bottom: 0;padding: 0.3em;box-sizing: border-box;text-align: center;}#sk-container-id-3 label.sk-toggleable__label-arrow:before {content: \"▸\";float: left;margin-right: 0.25em;color: #696969;}#sk-container-id-3 label.sk-toggleable__label-arrow:hover:before {color: black;}#sk-container-id-3 div.sk-estimator:hover label.sk-toggleable__label-arrow:before {color: black;}#sk-container-id-3 div.sk-toggleable__content {max-height: 0;max-width: 0;overflow: hidden;text-align: left;background-color: #f0f8ff;}#sk-container-id-3 div.sk-toggleable__content pre {margin: 0.2em;color: black;border-radius: 0.25em;background-color: #f0f8ff;}#sk-container-id-3 input.sk-toggleable__control:checked~div.sk-toggleable__content {max-height: 200px;max-width: 100%;overflow: auto;}#sk-container-id-3 input.sk-toggleable__control:checked~label.sk-toggleable__label-arrow:before {content: \"▾\";}#sk-container-id-3 div.sk-estimator input.sk-toggleable__control:checked~label.sk-toggleable__label {background-color: #d4ebff;}#sk-container-id-3 div.sk-label input.sk-toggleable__control:checked~label.sk-toggleable__label {background-color: #d4ebff;}#sk-container-id-3 input.sk-hidden--visually {border: 0;clip: rect(1px 1px 1px 1px);clip: rect(1px, 1px, 1px, 1px);height: 1px;margin: -1px;overflow: hidden;padding: 0;position: absolute;width: 1px;}#sk-container-id-3 div.sk-estimator {font-family: monospace;background-color: #f0f8ff;border: 1px dotted black;border-radius: 0.25em;box-sizing: border-box;margin-bottom: 0.5em;}#sk-container-id-3 div.sk-estimator:hover {background-color: #d4ebff;}#sk-container-id-3 div.sk-parallel-item::after {content: \"\";width: 100%;border-bottom: 1px solid gray;flex-grow: 1;}#sk-container-id-3 div.sk-label:hover label.sk-toggleable__label {background-color: #d4ebff;}#sk-container-id-3 div.sk-serial::before {content: \"\";position: absolute;border-left: 1px solid gray;box-sizing: border-box;top: 0;bottom: 0;left: 50%;z-index: 0;}#sk-container-id-3 div.sk-serial {display: flex;flex-direction: column;align-items: center;background-color: white;padding-right: 0.2em;padding-left: 0.2em;position: relative;}#sk-container-id-3 div.sk-item {position: relative;z-index: 1;}#sk-container-id-3 div.sk-parallel {display: flex;align-items: stretch;justify-content: center;background-color: white;position: relative;}#sk-container-id-3 div.sk-item::before, #sk-container-id-3 div.sk-parallel-item::before {content: \"\";position: absolute;border-left: 1px solid gray;box-sizing: border-box;top: 0;bottom: 0;left: 50%;z-index: -1;}#sk-container-id-3 div.sk-parallel-item {display: flex;flex-direction: column;z-index: 1;position: relative;background-color: white;}#sk-container-id-3 div.sk-parallel-item:first-child::after {align-self: flex-end;width: 50%;}#sk-container-id-3 div.sk-parallel-item:last-child::after {align-self: flex-start;width: 50%;}#sk-container-id-3 div.sk-parallel-item:only-child::after {width: 0;}#sk-container-id-3 div.sk-dashed-wrapped {border: 1px dashed gray;margin: 0 0.4em 0.5em 0.4em;box-sizing: border-box;padding-bottom: 0.4em;background-color: white;}#sk-container-id-3 div.sk-label label {font-family: monospace;font-weight: bold;display: inline-block;line-height: 1.2em;}#sk-container-id-3 div.sk-label-container {text-align: center;}#sk-container-id-3 div.sk-container {/* jupyter's `normalize.less` sets `[hidden] { display: none; }` but bootstrap.min.css set `[hidden] { display: none !important; }` so we also need the `!important` here to be able to override the default hidden behavior on the sphinx rendered scikit-learn.org. See: https://github.com/scikit-learn/scikit-learn/issues/21755 */display: inline-block !important;position: relative;}#sk-container-id-3 div.sk-text-repr-fallback {display: none;}</style><div id=\"sk-container-id-3\" class=\"sk-top-container\"><div class=\"sk-text-repr-fallback\"><pre>LogisticRegression(random_state=42)</pre><b>In a Jupyter environment, please rerun this cell to show the HTML representation or trust the notebook. <br />On GitHub, the HTML representation is unable to render, please try loading this page with nbviewer.org.</b></div><div class=\"sk-container\" hidden><div class=\"sk-item\"><div class=\"sk-estimator sk-toggleable\"><input class=\"sk-toggleable__control sk-hidden--visually\" id=\"sk-estimator-id-3\" type=\"checkbox\" checked><label for=\"sk-estimator-id-3\" class=\"sk-toggleable__label sk-toggleable__label-arrow\">LogisticRegression</label><div class=\"sk-toggleable__content\"><pre>LogisticRegression(random_state=42)</pre></div></div></div></div></div>"
      ],
      "text/plain": [
       "LogisticRegression(random_state=42)"
      ]
     },
     "execution_count": 189,
     "metadata": {},
     "output_type": "execute_result"
    }
   ],
   "source": [
    "logit.fit(X_train_part[num_col], y_train_part)"
   ]
  },
  {
   "cell_type": "code",
   "execution_count": 190,
   "id": "126c205b",
   "metadata": {},
   "outputs": [],
   "source": [
    "y_pred = logit.predict(X_valid[num_col])"
   ]
  },
  {
   "cell_type": "code",
   "execution_count": 191,
   "id": "31d50982",
   "metadata": {},
   "outputs": [
    {
     "name": "stdout",
     "output_type": "stream",
     "text": [
      "f1_weight:  0.9958311269393152\n"
     ]
    }
   ],
   "source": [
    "print(\"f1_weight: \", f1_score(y_valid, y_pred, average='weighted'))"
   ]
  },
  {
   "cell_type": "code",
   "execution_count": 192,
   "id": "6a8ab83c",
   "metadata": {},
   "outputs": [
    {
     "name": "stdout",
     "output_type": "stream",
     "text": [
      "              precision    recall  f1-score   support\n",
      "\n",
      "           0       1.00      1.00      1.00     19996\n",
      "           1       0.68      0.48      0.56       103\n",
      "\n",
      "    accuracy                           1.00     20099\n",
      "   macro avg       0.84      0.74      0.78     20099\n",
      "weighted avg       1.00      1.00      1.00     20099\n",
      "\n"
     ]
    }
   ],
   "source": [
    "print(classification_report(y_valid, y_pred))"
   ]
  },
  {
   "cell_type": "code",
   "execution_count": 194,
   "id": "267fac96",
   "metadata": {},
   "outputs": [],
   "source": [
    "#logit_pred = logit.predict(X_test[num_col])"
   ]
  },
  {
   "cell_type": "markdown",
   "id": "5ce5dc6f",
   "metadata": {},
   "source": [
    "#### По фолдам"
   ]
  },
  {
   "cell_type": "code",
   "execution_count": 105,
   "id": "a16f15a0",
   "metadata": {},
   "outputs": [],
   "source": [
    "train_df_part = merged_df[(merged_df['prsnt_age']>=58)&(merged_df['prsnt_age']<=67)]#['accnt_id'].unique()"
   ]
  },
  {
   "cell_type": "code",
   "execution_count": 109,
   "id": "05789ba0",
   "metadata": {},
   "outputs": [],
   "source": [
    "catc = CatBoostClassifier(loss_function = \"Logloss\",\n",
    "                          eval_metric=\"F1\",\n",
    "                          #eval_metric=\"AUC\",\n",
    "                          learning_rate=0.01,\n",
    "                          max_depth = 16,\n",
    "                          #l2_leaf_reg = 3.5,\n",
    "                          n_estimators = 1000,\n",
    "                          auto_class_weights='Balanced',\n",
    "                          leaf_estimation_iterations=1, random_state=42, task_type='GPU')"
   ]
  },
  {
   "cell_type": "markdown",
   "id": "27742077",
   "metadata": {},
   "source": [
    "### Загрузка тестовых данных"
   ]
  },
  {
   "cell_type": "code",
   "execution_count": 208,
   "id": "50495ebd",
   "metadata": {},
   "outputs": [
    {
     "data": {
      "text/html": [
       "<div>\n",
       "<style scoped>\n",
       "    .dataframe tbody tr th:only-of-type {\n",
       "        vertical-align: middle;\n",
       "    }\n",
       "\n",
       "    .dataframe tbody tr th {\n",
       "        vertical-align: top;\n",
       "    }\n",
       "\n",
       "    .dataframe thead th {\n",
       "        text-align: right;\n",
       "    }\n",
       "</style>\n",
       "<table border=\"1\" class=\"dataframe\">\n",
       "  <thead>\n",
       "    <tr style=\"text-align: right;\">\n",
       "      <th></th>\n",
       "      <th>slctn_nmbr</th>\n",
       "      <th>clnt_id</th>\n",
       "      <th>accnt_id</th>\n",
       "      <th>gndr</th>\n",
       "      <th>brth_yr</th>\n",
       "      <th>prsnt_age</th>\n",
       "      <th>accnt_bgn_date</th>\n",
       "      <th>cprtn_prd_d</th>\n",
       "      <th>accnt_status</th>\n",
       "      <th>pnsn_age</th>\n",
       "      <th>...</th>\n",
       "      <th>dstrct</th>\n",
       "      <th>city</th>\n",
       "      <th>sttlmnt</th>\n",
       "      <th>pstl_code</th>\n",
       "      <th>okato</th>\n",
       "      <th>phn</th>\n",
       "      <th>email</th>\n",
       "      <th>lk</th>\n",
       "      <th>assgn_npo</th>\n",
       "      <th>assgn_ops</th>\n",
       "    </tr>\n",
       "  </thead>\n",
       "  <tbody>\n",
       "    <tr>\n",
       "      <th>0</th>\n",
       "      <td>0</td>\n",
       "      <td>0x974BA5AD563F3B4BA6573C9C32CC9886</td>\n",
       "      <td>0x828738D13E70E44D9A97F595ADBC4A33</td>\n",
       "      <td>ж</td>\n",
       "      <td>1960</td>\n",
       "      <td>64</td>\n",
       "      <td>2005-12-16</td>\n",
       "      <td>101</td>\n",
       "      <td>Накопительный период</td>\n",
       "      <td>55</td>\n",
       "      <td>...</td>\n",
       "      <td>NaN</td>\n",
       "      <td>ВОРОНЕЖ Г</td>\n",
       "      <td>NaN</td>\n",
       "      <td>394010</td>\n",
       "      <td>2.000000e+10</td>\n",
       "      <td>нет</td>\n",
       "      <td>нет</td>\n",
       "      <td>нет</td>\n",
       "      <td>нет</td>\n",
       "      <td>нет</td>\n",
       "    </tr>\n",
       "    <tr>\n",
       "      <th>1</th>\n",
       "      <td>0</td>\n",
       "      <td>0x847B12D73A12B542BB738100FB707B65</td>\n",
       "      <td>0xA4F3243B96C17B4B93C3663D72B69908</td>\n",
       "      <td>ж</td>\n",
       "      <td>1962</td>\n",
       "      <td>62</td>\n",
       "      <td>2013-08-24</td>\n",
       "      <td>611</td>\n",
       "      <td>Накопительный период</td>\n",
       "      <td>55</td>\n",
       "      <td>...</td>\n",
       "      <td>NaN</td>\n",
       "      <td>КОПЕЙСК Г</td>\n",
       "      <td>NaN</td>\n",
       "      <td>456617</td>\n",
       "      <td>7.500000e+10</td>\n",
       "      <td>нет</td>\n",
       "      <td>нет</td>\n",
       "      <td>нет</td>\n",
       "      <td>нет</td>\n",
       "      <td>нет</td>\n",
       "    </tr>\n",
       "  </tbody>\n",
       "</table>\n",
       "<p>2 rows × 24 columns</p>\n",
       "</div>"
      ],
      "text/plain": [
       "   slctn_nmbr                             clnt_id  \\\n",
       "0           0  0x974BA5AD563F3B4BA6573C9C32CC9886   \n",
       "1           0  0x847B12D73A12B542BB738100FB707B65   \n",
       "\n",
       "                             accnt_id gndr  brth_yr  prsnt_age accnt_bgn_date  \\\n",
       "0  0x828738D13E70E44D9A97F595ADBC4A33    ж     1960         64     2005-12-16   \n",
       "1  0xA4F3243B96C17B4B93C3663D72B69908    ж     1962         62     2013-08-24   \n",
       "\n",
       "   cprtn_prd_d          accnt_status  pnsn_age  ... dstrct       city sttlmnt  \\\n",
       "0          101  Накопительный период        55  ...    NaN  ВОРОНЕЖ Г     NaN   \n",
       "1          611  Накопительный период        55  ...    NaN  КОПЕЙСК Г     NaN   \n",
       "\n",
       "  pstl_code         okato  phn email   lk  assgn_npo assgn_ops  \n",
       "0    394010  2.000000e+10  нет   нет  нет        нет       нет  \n",
       "1    456617  7.500000e+10  нет   нет  нет        нет       нет  \n",
       "\n",
       "[2 rows x 24 columns]"
      ]
     },
     "execution_count": 208,
     "metadata": {},
     "output_type": "execute_result"
    }
   ],
   "source": [
    "df_test = pd.read_csv('test_data/cntrbtrs_clnts_ops_tst.csv', encoding='cp1251', sep=\";\")\n",
    "df_test.head(2)"
   ]
  },
  {
   "cell_type": "code",
   "execution_count": 209,
   "id": "857c043b",
   "metadata": {},
   "outputs": [
    {
     "data": {
      "text/html": [
       "<div>\n",
       "<style scoped>\n",
       "    .dataframe tbody tr th:only-of-type {\n",
       "        vertical-align: middle;\n",
       "    }\n",
       "\n",
       "    .dataframe tbody tr th {\n",
       "        vertical-align: top;\n",
       "    }\n",
       "\n",
       "    .dataframe thead th {\n",
       "        text-align: right;\n",
       "    }\n",
       "</style>\n",
       "<table border=\"1\" class=\"dataframe\">\n",
       "  <thead>\n",
       "    <tr style=\"text-align: right;\">\n",
       "      <th></th>\n",
       "      <th>accnt_id</th>\n",
       "      <th>mvmnt_type</th>\n",
       "      <th>sum_type</th>\n",
       "      <th>cmmnt</th>\n",
       "      <th>sum</th>\n",
       "      <th>oprtn_date</th>\n",
       "    </tr>\n",
       "  </thead>\n",
       "  <tbody>\n",
       "    <tr>\n",
       "      <th>0</th>\n",
       "      <td>0x000102D7080E8745A76B4A97BEEA8568</td>\n",
       "      <td>0.0</td>\n",
       "      <td>Страховые взносы на НЧ</td>\n",
       "      <td>Поступление взносов ОПС</td>\n",
       "      <td>1285.36</td>\n",
       "      <td>2010-02-22</td>\n",
       "    </tr>\n",
       "    <tr>\n",
       "      <th>1</th>\n",
       "      <td>0x000102D7080E8745A76B4A97BEEA8568</td>\n",
       "      <td>0.0</td>\n",
       "      <td>ИД на страховые взносы на НЧ</td>\n",
       "      <td>Распределение ИД ОПС</td>\n",
       "      <td>96.02</td>\n",
       "      <td>2010-11-16</td>\n",
       "    </tr>\n",
       "  </tbody>\n",
       "</table>\n",
       "</div>"
      ],
      "text/plain": [
       "                             accnt_id  mvmnt_type  \\\n",
       "0  0x000102D7080E8745A76B4A97BEEA8568         0.0   \n",
       "1  0x000102D7080E8745A76B4A97BEEA8568         0.0   \n",
       "\n",
       "                       sum_type                    cmmnt      sum  oprtn_date  \n",
       "0        Страховые взносы на НЧ  Поступление взносов ОПС  1285.36  2010-02-22  \n",
       "1  ИД на страховые взносы на НЧ     Распределение ИД ОПС    96.02  2010-11-16  "
      ]
     },
     "execution_count": 209,
     "metadata": {},
     "output_type": "execute_result"
    }
   ],
   "source": [
    "df_test_ = pd.read_csv('test_data/trnsctns_ops_tst.csv', encoding='cp1251', sep=\";\")\n",
    "df_test_.head(2)"
   ]
  },
  {
   "cell_type": "code",
   "execution_count": 210,
   "id": "bb1e502e",
   "metadata": {},
   "outputs": [],
   "source": [
    "#для сабмита\n",
    "submit = df_test[['accnt_id']].copy()"
   ]
  },
  {
   "cell_type": "code",
   "execution_count": 211,
   "id": "50e6b8ef",
   "metadata": {},
   "outputs": [
    {
     "data": {
      "text/html": [
       "<div>\n",
       "<style scoped>\n",
       "    .dataframe tbody tr th:only-of-type {\n",
       "        vertical-align: middle;\n",
       "    }\n",
       "\n",
       "    .dataframe tbody tr th {\n",
       "        vertical-align: top;\n",
       "    }\n",
       "\n",
       "    .dataframe thead th {\n",
       "        text-align: right;\n",
       "    }\n",
       "</style>\n",
       "<table border=\"1\" class=\"dataframe\">\n",
       "  <thead>\n",
       "    <tr style=\"text-align: right;\">\n",
       "      <th></th>\n",
       "      <th>accnt_id</th>\n",
       "      <th>counting</th>\n",
       "      <th>mvmnt_type</th>\n",
       "      <th>sum_type</th>\n",
       "      <th>cmmnt</th>\n",
       "      <th>sums</th>\n",
       "      <th>cmmnt_unique</th>\n",
       "    </tr>\n",
       "  </thead>\n",
       "  <tbody>\n",
       "    <tr>\n",
       "      <th>0</th>\n",
       "      <td>0x000102D7080E8745A76B4A97BEEA8568</td>\n",
       "      <td>39</td>\n",
       "      <td>0.0</td>\n",
       "      <td>ИД на страховые взносы на НЧ</td>\n",
       "      <td>Поступление взносов ОПС</td>\n",
       "      <td>1883.72</td>\n",
       "      <td>4</td>\n",
       "    </tr>\n",
       "    <tr>\n",
       "      <th>1</th>\n",
       "      <td>0x0001A43910E96F4597865F45489E2A9D</td>\n",
       "      <td>15</td>\n",
       "      <td>0.0</td>\n",
       "      <td>ИД на страховые взносы на НЧ</td>\n",
       "      <td>Распределение ИД ОПС</td>\n",
       "      <td>2780.27</td>\n",
       "      <td>3</td>\n",
       "    </tr>\n",
       "  </tbody>\n",
       "</table>\n",
       "</div>"
      ],
      "text/plain": [
       "                             accnt_id  counting  mvmnt_type  \\\n",
       "0  0x000102D7080E8745A76B4A97BEEA8568        39         0.0   \n",
       "1  0x0001A43910E96F4597865F45489E2A9D        15         0.0   \n",
       "\n",
       "                       sum_type                    cmmnt     sums  \\\n",
       "0  ИД на страховые взносы на НЧ  Поступление взносов ОПС  1883.72   \n",
       "1  ИД на страховые взносы на НЧ     Распределение ИД ОПС  2780.27   \n",
       "\n",
       "   cmmnt_unique  \n",
       "0             4  \n",
       "1             3  "
      ]
     },
     "execution_count": 211,
     "metadata": {},
     "output_type": "execute_result"
    }
   ],
   "source": [
    "trnsctns_ = df_test_.groupby('accnt_id', as_index=False).agg(\n",
    "    counting=('mvmnt_type', 'count'),   #записей на человека\n",
    "    mvmnt_type=('mvmnt_type', 'mean'),        #каких больше\n",
    "    sum_type =('sum_type', get_mode),   #популярный тип\n",
    "    cmmnt=('cmmnt', get_mode), #популярный тип\n",
    "    sums=('sum', 'sum'), #обзщая сумма\n",
    "    cmmnt_unique=('cmmnt', 'nunique'), #Вычисляем браузер/приложение пользователя\n",
    ")\n",
    "trnsctns_.head(2)"
   ]
  },
  {
   "cell_type": "code",
   "execution_count": 212,
   "id": "b02c298c",
   "metadata": {},
   "outputs": [],
   "source": [
    "#заполняем пропуски\n",
    "df_test['rgn']=df_test['rgn'].fillna(df_test['rgn'].mode()[0])\n",
    "df_test['okato']=df_test['okato'].fillna(df_test['okato'].mode()[0]).astype(int)"
   ]
  },
  {
   "cell_type": "code",
   "execution_count": 213,
   "id": "223558b0",
   "metadata": {},
   "outputs": [],
   "source": [
    "# полный датасет\n",
    "cols_ = ['accnt_id', 'gndr', 'brth_yr', 'prsnt_age', 'cprtn_prd_d', 'accnt_status',\n",
    "       'pnsn_age', 'prvs_npf', 'rgn', 'phn', 'email', 'lk',\n",
    "       'assgn_npo', 'assgn_ops']\n",
    "merged_df_ = pd.merge(df_test[cols_], trnsctns_, on=['accnt_id'])"
   ]
  },
  {
   "cell_type": "code",
   "execution_count": 214,
   "id": "8fb49d15",
   "metadata": {},
   "outputs": [
    {
     "data": {
      "text/html": [
       "<div>\n",
       "<style scoped>\n",
       "    .dataframe tbody tr th:only-of-type {\n",
       "        vertical-align: middle;\n",
       "    }\n",
       "\n",
       "    .dataframe tbody tr th {\n",
       "        vertical-align: top;\n",
       "    }\n",
       "\n",
       "    .dataframe thead th {\n",
       "        text-align: right;\n",
       "    }\n",
       "</style>\n",
       "<table border=\"1\" class=\"dataframe\">\n",
       "  <thead>\n",
       "    <tr style=\"text-align: right;\">\n",
       "      <th></th>\n",
       "      <th>accnt_id</th>\n",
       "      <th>gndr</th>\n",
       "      <th>brth_yr</th>\n",
       "      <th>prsnt_age</th>\n",
       "      <th>cprtn_prd_d</th>\n",
       "      <th>accnt_status</th>\n",
       "      <th>pnsn_age</th>\n",
       "      <th>prvs_npf</th>\n",
       "      <th>rgn</th>\n",
       "      <th>phn</th>\n",
       "      <th>email</th>\n",
       "      <th>lk</th>\n",
       "      <th>assgn_npo</th>\n",
       "      <th>assgn_ops</th>\n",
       "      <th>counting</th>\n",
       "      <th>mvmnt_type</th>\n",
       "      <th>sum_type</th>\n",
       "      <th>cmmnt</th>\n",
       "      <th>sums</th>\n",
       "      <th>cmmnt_unique</th>\n",
       "    </tr>\n",
       "  </thead>\n",
       "  <tbody>\n",
       "    <tr>\n",
       "      <th>0</th>\n",
       "      <td>0x828738D13E70E44D9A97F595ADBC4A33</td>\n",
       "      <td>ж</td>\n",
       "      <td>1960</td>\n",
       "      <td>64</td>\n",
       "      <td>101</td>\n",
       "      <td>Накопительный период</td>\n",
       "      <td>55</td>\n",
       "      <td>СФР</td>\n",
       "      <td>ВОРОНЕЖСКАЯ ОБЛ</td>\n",
       "      <td>нет</td>\n",
       "      <td>нет</td>\n",
       "      <td>нет</td>\n",
       "      <td>нет</td>\n",
       "      <td>нет</td>\n",
       "      <td>54</td>\n",
       "      <td>0.074074</td>\n",
       "      <td>ИД на страховые взносы на НЧ</td>\n",
       "      <td>Поступление взносов ОПС</td>\n",
       "      <td>2255.33</td>\n",
       "      <td>4</td>\n",
       "    </tr>\n",
       "    <tr>\n",
       "      <th>1</th>\n",
       "      <td>0xA4F3243B96C17B4B93C3663D72B69908</td>\n",
       "      <td>ж</td>\n",
       "      <td>1962</td>\n",
       "      <td>62</td>\n",
       "      <td>611</td>\n",
       "      <td>Накопительный период</td>\n",
       "      <td>55</td>\n",
       "      <td>СФР</td>\n",
       "      <td>ЧЕЛЯБИНСКАЯ ОБЛ</td>\n",
       "      <td>нет</td>\n",
       "      <td>нет</td>\n",
       "      <td>нет</td>\n",
       "      <td>нет</td>\n",
       "      <td>нет</td>\n",
       "      <td>15</td>\n",
       "      <td>0.000000</td>\n",
       "      <td>ИД на страховые взносы на НЧ</td>\n",
       "      <td>Распределение ИД ОПС</td>\n",
       "      <td>1137.70</td>\n",
       "      <td>4</td>\n",
       "    </tr>\n",
       "  </tbody>\n",
       "</table>\n",
       "</div>"
      ],
      "text/plain": [
       "                             accnt_id gndr  brth_yr  prsnt_age  cprtn_prd_d  \\\n",
       "0  0x828738D13E70E44D9A97F595ADBC4A33    ж     1960         64          101   \n",
       "1  0xA4F3243B96C17B4B93C3663D72B69908    ж     1962         62          611   \n",
       "\n",
       "           accnt_status  pnsn_age prvs_npf              rgn  phn email   lk  \\\n",
       "0  Накопительный период        55      СФР  ВОРОНЕЖСКАЯ ОБЛ  нет   нет  нет   \n",
       "1  Накопительный период        55      СФР  ЧЕЛЯБИНСКАЯ ОБЛ  нет   нет  нет   \n",
       "\n",
       "  assgn_npo assgn_ops  counting  mvmnt_type                      sum_type  \\\n",
       "0       нет       нет        54    0.074074  ИД на страховые взносы на НЧ   \n",
       "1       нет       нет        15    0.000000  ИД на страховые взносы на НЧ   \n",
       "\n",
       "                     cmmnt     sums  cmmnt_unique  \n",
       "0  Поступление взносов ОПС  2255.33             4  \n",
       "1     Распределение ИД ОПС  1137.70             4  "
      ]
     },
     "execution_count": 214,
     "metadata": {},
     "output_type": "execute_result"
    }
   ],
   "source": [
    "merged_df_.head(2)"
   ]
  },
  {
   "cell_type": "code",
   "execution_count": 215,
   "id": "0329e907",
   "metadata": {},
   "outputs": [],
   "source": [
    "merged_df_['gndr_age'] = merged_df_['gndr'] + merged_df_['prsnt_age'].astype(str)"
   ]
  },
  {
   "cell_type": "code",
   "execution_count": 217,
   "id": "8198660f",
   "metadata": {},
   "outputs": [
    {
     "data": {
      "text/html": [
       "<div>\n",
       "<style scoped>\n",
       "    .dataframe tbody tr th:only-of-type {\n",
       "        vertical-align: middle;\n",
       "    }\n",
       "\n",
       "    .dataframe tbody tr th {\n",
       "        vertical-align: top;\n",
       "    }\n",
       "\n",
       "    .dataframe thead th {\n",
       "        text-align: right;\n",
       "    }\n",
       "</style>\n",
       "<table border=\"1\" class=\"dataframe\">\n",
       "  <thead>\n",
       "    <tr style=\"text-align: right;\">\n",
       "      <th></th>\n",
       "      <th>pnsn_age</th>\n",
       "      <th>cprtn_prd_d</th>\n",
       "      <th>prsnt_age</th>\n",
       "      <th>brth_yr</th>\n",
       "      <th>counting</th>\n",
       "      <th>mvmnt_type</th>\n",
       "      <th>sums</th>\n",
       "      <th>cmmnt_unique</th>\n",
       "      <th>gndr</th>\n",
       "      <th>rgn</th>\n",
       "      <th>phn</th>\n",
       "      <th>email</th>\n",
       "      <th>lk</th>\n",
       "      <th>assgn_npo</th>\n",
       "      <th>assgn_ops</th>\n",
       "      <th>gndr_age</th>\n",
       "      <th>sum_type</th>\n",
       "      <th>cmmnt</th>\n",
       "    </tr>\n",
       "  </thead>\n",
       "  <tbody>\n",
       "    <tr>\n",
       "      <th>0</th>\n",
       "      <td>55</td>\n",
       "      <td>101</td>\n",
       "      <td>64</td>\n",
       "      <td>1960</td>\n",
       "      <td>54</td>\n",
       "      <td>0.074074</td>\n",
       "      <td>2255.33</td>\n",
       "      <td>4</td>\n",
       "      <td>ж</td>\n",
       "      <td>ВОРОНЕЖСКАЯ ОБЛ</td>\n",
       "      <td>нет</td>\n",
       "      <td>нет</td>\n",
       "      <td>нет</td>\n",
       "      <td>нет</td>\n",
       "      <td>нет</td>\n",
       "      <td>ж64</td>\n",
       "      <td>ИД на страховые взносы на НЧ</td>\n",
       "      <td>Поступление взносов ОПС</td>\n",
       "    </tr>\n",
       "    <tr>\n",
       "      <th>1</th>\n",
       "      <td>55</td>\n",
       "      <td>611</td>\n",
       "      <td>62</td>\n",
       "      <td>1962</td>\n",
       "      <td>15</td>\n",
       "      <td>0.000000</td>\n",
       "      <td>1137.70</td>\n",
       "      <td>4</td>\n",
       "      <td>ж</td>\n",
       "      <td>ЧЕЛЯБИНСКАЯ ОБЛ</td>\n",
       "      <td>нет</td>\n",
       "      <td>нет</td>\n",
       "      <td>нет</td>\n",
       "      <td>нет</td>\n",
       "      <td>нет</td>\n",
       "      <td>ж62</td>\n",
       "      <td>ИД на страховые взносы на НЧ</td>\n",
       "      <td>Распределение ИД ОПС</td>\n",
       "    </tr>\n",
       "  </tbody>\n",
       "</table>\n",
       "</div>"
      ],
      "text/plain": [
       "   pnsn_age  cprtn_prd_d  prsnt_age  brth_yr  counting  mvmnt_type     sums  \\\n",
       "0        55          101         64     1960        54    0.074074  2255.33   \n",
       "1        55          611         62     1962        15    0.000000  1137.70   \n",
       "\n",
       "   cmmnt_unique gndr              rgn  phn email   lk assgn_npo assgn_ops  \\\n",
       "0             4    ж  ВОРОНЕЖСКАЯ ОБЛ  нет   нет  нет       нет       нет   \n",
       "1             4    ж  ЧЕЛЯБИНСКАЯ ОБЛ  нет   нет  нет       нет       нет   \n",
       "\n",
       "  gndr_age                      sum_type                    cmmnt  \n",
       "0      ж64  ИД на страховые взносы на НЧ  Поступление взносов ОПС  \n",
       "1      ж62  ИД на страховые взносы на НЧ     Распределение ИД ОПС  "
      ]
     },
     "execution_count": 217,
     "metadata": {},
     "output_type": "execute_result"
    }
   ],
   "source": [
    "X_test = merged_df_[feat_col]\n",
    "X_test.head(2)"
   ]
  },
  {
   "cell_type": "code",
   "execution_count": null,
   "id": "943831b3",
   "metadata": {},
   "outputs": [],
   "source": []
  },
  {
   "cell_type": "code",
   "execution_count": 156,
   "id": "e0495cd1",
   "metadata": {},
   "outputs": [
    {
     "name": "stdout",
     "output_type": "stream",
     "text": [
      "fold n°1\n",
      "0:\tlearn: 0.9990444\ttest: 0.9555079\tbest: 0.9555079 (0)\ttotal: 491ms\tremaining: 8m 10s\n",
      "bestTest = 0.993289197\n",
      "bestIteration = 4\n",
      "Shrink model to first 5 iterations.\n",
      "fold n°2\n",
      "0:\tlearn: 0.9984078\ttest: 0.9793884\tbest: 0.9793884 (0)\ttotal: 481ms\tremaining: 8m\n",
      "bestTest = 0.9846229033\n",
      "bestIteration = 12\n",
      "Shrink model to first 13 iterations.\n",
      "fold n°3\n",
      "0:\tlearn: 0.9991750\ttest: 0.9389679\tbest: 0.9389679 (0)\ttotal: 490ms\tremaining: 8m 9s\n",
      "100:\tlearn: 0.9989370\ttest: 0.9831198\tbest: 0.9883862 (95)\ttotal: 30.2s\tremaining: 4m 28s\n",
      "bestTest = 0.9883862345\n",
      "bestIteration = 95\n",
      "Shrink model to first 96 iterations.\n",
      "fold n°4\n",
      "0:\tlearn: 0.9954503\ttest: 0.9956424\tbest: 0.9956424 (0)\ttotal: 33ms\tremaining: 33s\n",
      "100:\tlearn: 0.9988413\ttest: 0.9989949\tbest: 0.9989949 (100)\ttotal: 33.3s\tremaining: 4m 56s\n",
      "200:\tlearn: 0.9992200\ttest: 0.9992843\tbest: 0.9992843 (197)\ttotal: 1m 15s\tremaining: 4m 58s\n",
      "300:\tlearn: 0.9994857\ttest: 0.9995057\tbest: 0.9995114 (296)\ttotal: 2m 3s\tremaining: 4m 46s\n",
      "400:\tlearn: 0.9995815\ttest: 0.9995796\tbest: 0.9995796 (396)\ttotal: 2m 52s\tremaining: 4m 17s\n",
      "500:\tlearn: 0.9996454\ttest: 0.9996136\tbest: 0.9996136 (490)\ttotal: 3m 41s\tremaining: 3m 40s\n",
      "600:\tlearn: 0.9996759\ttest: 0.9996477\tbest: 0.9996477 (597)\ttotal: 4m 32s\tremaining: 3m\n",
      "700:\tlearn: 0.9996948\ttest: 0.9996761\tbest: 0.9996761 (666)\ttotal: 5m 23s\tremaining: 2m 17s\n",
      "bestTest = 0.9996761161\n",
      "bestIteration = 666\n",
      "Shrink model to first 667 iterations.\n",
      "fold n°5\n",
      "0:\tlearn: 0.9989109\ttest: 0.9412736\tbest: 0.9412736 (0)\ttotal: 484ms\tremaining: 8m 3s\n",
      "bestTest = 0.9933327881\n",
      "bestIteration = 35\n",
      "Shrink model to first 36 iterations.\n"
     ]
    }
   ],
   "source": [
    "num_folds = 5\n",
    "\n",
    "folds = KFold(n_splits= num_folds, shuffle=True, random_state=42)\n",
    "\n",
    "predictions = np.zeros(len(X_test))\n",
    "\n",
    "for fold_, (trn_idx, val_idx) in enumerate(folds.split(train_df_part)):\n",
    "    print(\"fold n°{}\".format(fold_ + 1))\n",
    "    X_trn = train_df_part[feat_col].iloc[trn_idx]\n",
    "    y_trn = train_df_part['erly_pnsn_flg'].iloc[trn_idx]\n",
    "    X_val = train_df_part[feat_col].iloc[val_idx]\n",
    "    y_val = train_df_part['erly_pnsn_flg'].iloc[val_idx]\n",
    "\n",
    "    clf = catc.fit(X_trn, y_trn, eval_set=(X_val, y_val), verbose=100, early_stopping_rounds = 50, \n",
    "                  use_best_model=True, cat_features=cat_col_)\n",
    "    \n",
    "    predictions += clf.predict(X_test[feat_col], prediction_type='Probability')[:, 1] / folds.n_splits"
   ]
  },
  {
   "cell_type": "code",
   "execution_count": 218,
   "id": "e3bba1af",
   "metadata": {},
   "outputs": [
    {
     "data": {
      "text/html": [
       "<div>\n",
       "<style scoped>\n",
       "    .dataframe tbody tr th:only-of-type {\n",
       "        vertical-align: middle;\n",
       "    }\n",
       "\n",
       "    .dataframe tbody tr th {\n",
       "        vertical-align: top;\n",
       "    }\n",
       "\n",
       "    .dataframe thead th {\n",
       "        text-align: right;\n",
       "    }\n",
       "</style>\n",
       "<table border=\"1\" class=\"dataframe\">\n",
       "  <thead>\n",
       "    <tr style=\"text-align: right;\">\n",
       "      <th></th>\n",
       "      <th>accnt_id</th>\n",
       "      <th>erly_pnsn_flg</th>\n",
       "    </tr>\n",
       "  </thead>\n",
       "  <tbody>\n",
       "    <tr>\n",
       "      <th>0</th>\n",
       "      <td>0x828738D13E70E44D9A97F595ADBC4A33</td>\n",
       "      <td>0</td>\n",
       "    </tr>\n",
       "    <tr>\n",
       "      <th>1</th>\n",
       "      <td>0xA4F3243B96C17B4B93C3663D72B69908</td>\n",
       "      <td>0</td>\n",
       "    </tr>\n",
       "  </tbody>\n",
       "</table>\n",
       "</div>"
      ],
      "text/plain": [
       "                             accnt_id  erly_pnsn_flg\n",
       "0  0x828738D13E70E44D9A97F595ADBC4A33              0\n",
       "1  0xA4F3243B96C17B4B93C3663D72B69908              0"
      ]
     },
     "execution_count": 218,
     "metadata": {},
     "output_type": "execute_result"
    }
   ],
   "source": [
    "y_pred = np.where(predictions <0.5, 0, 1)\n",
    "submit['erly_pnsn_flg']=y_pred\n",
    "submit.head(2)"
   ]
  },
  {
   "cell_type": "markdown",
   "id": "59a602dd",
   "metadata": {},
   "source": [
    "Сохранение сабмита"
   ]
  },
  {
   "cell_type": "code",
   "execution_count": 171,
   "id": "fcfeb1f0",
   "metadata": {},
   "outputs": [],
   "source": [
    "submit[['accnt_id', 'erly_pnsn_flg']].to_csv('submission2.csv', index=False)"
   ]
  },
  {
   "cell_type": "code",
   "execution_count": null,
   "id": "63714a0f",
   "metadata": {},
   "outputs": [],
   "source": []
  },
  {
   "cell_type": "code",
   "execution_count": 186,
   "id": "147cea01",
   "metadata": {},
   "outputs": [],
   "source": [
    "#submit['erly_pnsn_flg']=model_pred\n",
    "#submit[['accnt_id', 'erly_pnsn_flg']].to_csv('submission3.csv', index=False)"
   ]
  },
  {
   "cell_type": "code",
   "execution_count": 195,
   "id": "7099fb69",
   "metadata": {},
   "outputs": [],
   "source": [
    "#submit['erly_pnsn_flg']=logit_pred\n",
    "#submit[['accnt_id', 'erly_pnsn_flg']].to_csv('submission4.csv', index=False)"
   ]
  },
  {
   "cell_type": "code",
   "execution_count": null,
   "id": "141563c3",
   "metadata": {},
   "outputs": [],
   "source": []
  }
 ],
 "metadata": {
  "kernelspec": {
   "display_name": "Python 3 (ipykernel)",
   "language": "python",
   "name": "python3"
  },
  "language_info": {
   "codemirror_mode": {
    "name": "ipython",
    "version": 3
   },
   "file_extension": ".py",
   "mimetype": "text/x-python",
   "name": "python",
   "nbconvert_exporter": "python",
   "pygments_lexer": "ipython3",
   "version": "3.9.12"
  }
 },
 "nbformat": 4,
 "nbformat_minor": 5
}
